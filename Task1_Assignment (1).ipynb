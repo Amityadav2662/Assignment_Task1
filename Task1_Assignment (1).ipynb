{
 "cells": [
  {
   "cell_type": "code",
   "execution_count": 61,
   "id": "7cb72283-d5d3-4f68-8b54-189b9de3be0f",
   "metadata": {},
   "outputs": [
    {
     "name": "stdout",
     "output_type": "stream",
     "text": [
      "4134711838987085478833841242112000\n"
     ]
    }
   ],
   "source": [
    "# Q1.\n",
    "\n",
    "def product(list1):\n",
    "    flat_list = []\n",
    "    \n",
    "    \n",
    "    for i in list1:\n",
    "        if type(i) == int:\n",
    "            flat_list.append(i)\n",
    "    \n",
    "        elif type(i) == list:\n",
    "            for lis in i:\n",
    "                flat_list.append(lis)\n",
    "                \n",
    "        elif type(i) == tuple:\n",
    "            for tup in i:\n",
    "                flat_list.append(tup)\n",
    "                \n",
    "        elif type(i) == set:\n",
    "            for s in i:\n",
    "                flat_list.append(s)\n",
    "                \n",
    "        elif type(i) == dict:\n",
    "            for key,value in i.items():\n",
    "                if type(key) == int:\n",
    "                    flat_list.append(key)\n",
    "                if type(value) == int:\n",
    "                    flat_list.append(value)\n",
    "                elif type(value) == list:\n",
    "                    for l in value:\n",
    "                        flat_list.append(l)\n",
    "                elif type(value) == tuple:\n",
    "                    for t in value:\n",
    "                        flat_list.append(t)\n",
    "        \n",
    "                \n",
    "                \n",
    "        flatten_list = []\n",
    "        for fl in flat_list:\n",
    "            if type(fl) != str and type(fl) != bool :\n",
    "                flatten_list.append(fl)\n",
    "        \n",
    "        product = 1\n",
    "        for prod in flatten_list:\n",
    "            product *= prod      \n",
    "        \n",
    "    return product\n",
    "    \n",
    "list1 = [1,2,3,4, [44,55,66, True], False, (34,56,78,89,34), {1,2,3,3,2,1}, {1:34, \"key2\": [55, 67, 78, 89], 4: (45,\n",
    "22, 61, 34)}, [56, 'data science'], 'Machine Learning']\n",
    "result = product(list1)\n",
    "print(result)"
   ]
  },
  {
   "cell_type": "code",
   "execution_count": 6,
   "id": "67409c54-fb44-435b-a73f-fd0dca18b839",
   "metadata": {},
   "outputs": [
    {
     "name": "stdout",
     "output_type": "stream",
     "text": [
      "i$wznt$to$yexome$z$dztz$sxienxtist\n"
     ]
    }
   ],
   "source": [
    "# Q2.\n",
    "def encrption(sentence):\n",
    "    encrp_sentence = \"\"\n",
    "   \n",
    "    for word in sentence:\n",
    "        for char in word:\n",
    "            if char == \"a\":\n",
    "                encrp_sentence += \"z\"\n",
    "            elif char == \"b\":\n",
    "                encrp_sentence += \"y\"\n",
    "            elif char == \"c\":\n",
    "                encrp_sentence += \"x\"\n",
    "            elif char == \" \":\n",
    "                encrp_sentence += \"$\"\n",
    "            else:\n",
    "                encrp_sentence += char\n",
    "\n",
    "    return encrp_sentence\n",
    "        \n",
    "sentence = \"I want to become a data scienctist\"\n",
    "result = encrption(sentence)\n",
    "print(result.lower())"
   ]
  },
  {
   "cell_type": "code",
   "execution_count": null,
   "id": "9ccdc362-4d94-47ef-82b6-a5d55e8b2ea0",
   "metadata": {},
   "outputs": [],
   "source": []
  },
  {
   "cell_type": "code",
   "execution_count": null,
   "id": "72c83c6f-a069-4201-aca6-5944af999c9c",
   "metadata": {},
   "outputs": [],
   "source": []
  }
 ],
 "metadata": {
  "kernelspec": {
   "display_name": "Python 3 (ipykernel)",
   "language": "python",
   "name": "python3"
  },
  "language_info": {
   "codemirror_mode": {
    "name": "ipython",
    "version": 3
   },
   "file_extension": ".py",
   "mimetype": "text/x-python",
   "name": "python",
   "nbconvert_exporter": "python",
   "pygments_lexer": "ipython3",
   "version": "3.10.8"
  }
 },
 "nbformat": 4,
 "nbformat_minor": 5
}
